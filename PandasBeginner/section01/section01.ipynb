{
 "cells": [
  {
   "cell_type": "markdown",
   "metadata": {},
   "source": [
    "# 第1回 | Pandasとは？Pandasを学習すべき3つの理由\n",
    "\n",
    "動画内で使った画像を作成するためのNotebookです！"
   ]
  },
  {
   "cell_type": "code",
   "execution_count": 1,
   "metadata": {
    "execution": {
     "iopub.execute_input": "2023-11-11T16:56:57.910139Z",
     "iopub.status.busy": "2023-11-11T16:56:57.910139Z",
     "iopub.status.idle": "2023-11-11T16:56:58.355611Z",
     "shell.execute_reply": "2023-11-11T16:56:58.355611Z",
     "shell.execute_reply.started": "2023-11-11T16:56:57.910139Z"
    }
   },
   "outputs": [],
   "source": [
    "import pandas as pd\n",
    "import numpy as np"
   ]
  },
  {
   "cell_type": "code",
   "execution_count": 2,
   "metadata": {
    "execution": {
     "iopub.execute_input": "2023-11-11T16:56:58.878694Z",
     "iopub.status.busy": "2023-11-11T16:56:58.878594Z",
     "iopub.status.idle": "2023-11-11T16:56:58.912506Z",
     "shell.execute_reply": "2023-11-11T16:56:58.911008Z",
     "shell.execute_reply.started": "2023-11-11T16:56:58.878694Z"
    }
   },
   "outputs": [
    {
     "data": {
      "text/html": [
       "<div>\n",
       "<style scoped>\n",
       "    .dataframe tbody tr th:only-of-type {\n",
       "        vertical-align: middle;\n",
       "    }\n",
       "\n",
       "    .dataframe tbody tr th {\n",
       "        vertical-align: top;\n",
       "    }\n",
       "\n",
       "    .dataframe thead th {\n",
       "        text-align: right;\n",
       "    }\n",
       "</style>\n",
       "<table border=\"1\" class=\"dataframe\">\n",
       "  <thead>\n",
       "    <tr style=\"text-align: right;\">\n",
       "      <th></th>\n",
       "      <th>A</th>\n",
       "      <th>B</th>\n",
       "      <th>C</th>\n",
       "    </tr>\n",
       "  </thead>\n",
       "  <tbody>\n",
       "    <tr>\n",
       "      <th>0</th>\n",
       "      <td>0.683260</td>\n",
       "      <td>1.094481</td>\n",
       "      <td>-1.988726</td>\n",
       "    </tr>\n",
       "    <tr>\n",
       "      <th>1</th>\n",
       "      <td>-1.372322</td>\n",
       "      <td>0.187849</td>\n",
       "      <td>-0.650312</td>\n",
       "    </tr>\n",
       "    <tr>\n",
       "      <th>2</th>\n",
       "      <td>0.564867</td>\n",
       "      <td>-0.306300</td>\n",
       "      <td>0.971249</td>\n",
       "    </tr>\n",
       "    <tr>\n",
       "      <th>3</th>\n",
       "      <td>-1.098050</td>\n",
       "      <td>0.044916</td>\n",
       "      <td>-0.885832</td>\n",
       "    </tr>\n",
       "    <tr>\n",
       "      <th>4</th>\n",
       "      <td>0.926618</td>\n",
       "      <td>0.406627</td>\n",
       "      <td>-0.734012</td>\n",
       "    </tr>\n",
       "  </tbody>\n",
       "</table>\n",
       "</div>"
      ],
      "text/plain": [
       "          A         B         C\n",
       "0  0.683260  1.094481 -1.988726\n",
       "1 -1.372322  0.187849 -0.650312\n",
       "2  0.564867 -0.306300  0.971249\n",
       "3 -1.098050  0.044916 -0.885832\n",
       "4  0.926618  0.406627 -0.734012"
      ]
     },
     "execution_count": 2,
     "metadata": {},
     "output_type": "execute_result"
    }
   ],
   "source": [
    "pd.DataFrame({\n",
    "    'A': np.random.normal(size=5),\n",
    "    'B': np.random.normal(size=5),\n",
    "    'C': np.random.normal(size=5)}\n",
    ")"
   ]
  },
  {
   "cell_type": "code",
   "execution_count": null,
   "metadata": {},
   "outputs": [],
   "source": []
  },
  {
   "cell_type": "code",
   "execution_count": 3,
   "metadata": {
    "execution": {
     "iopub.execute_input": "2023-11-11T23:49:24.488372Z",
     "iopub.status.busy": "2023-11-11T23:49:24.488372Z",
     "iopub.status.idle": "2023-11-11T23:49:28.818253Z",
     "shell.execute_reply": "2023-11-11T23:49:28.817662Z",
     "shell.execute_reply.started": "2023-11-11T23:49:24.488372Z"
    },
    "tags": []
   },
   "outputs": [
    {
     "name": "stdout",
     "output_type": "stream",
     "text": [
      "Collecting jupyterlab-code-formatter\n",
      "  Downloading jupyterlab_code_formatter-2.2.1-py3-none-any.whl.metadata (5.3 kB)\n",
      "Collecting black\n",
      "  Downloading black-23.11.0-cp38-cp38-win_amd64.whl.metadata (66 kB)\n",
      "     ---------------------------------------- 0.0/66.9 kB ? eta -:--:--\n",
      "     ------ --------------------------------- 10.2/66.9 kB ? eta -:--:--\n",
      "     ---------------------------------------- 66.9/66.9 kB 1.2 MB/s eta 0:00:00\n",
      "Collecting isort\n",
      "  Downloading isort-5.12.0-py3-none-any.whl (91 kB)\n",
      "     ---------------------------------------- 0.0/91.2 kB ? eta -:--:--\n",
      "     ---------------------------------------- 91.2/91.2 kB 2.5 MB/s eta 0:00:00\n",
      "Requirement already satisfied: jupyter-server<3,>=1.21 in c:\\users\\toneriver\\anaconda3\\envs\\pandas_env\\lib\\site-packages (from jupyterlab-code-formatter) (1.23.4)\n",
      "Requirement already satisfied: packaging in c:\\users\\toneriver\\anaconda3\\envs\\pandas_env\\lib\\site-packages (from jupyterlab-code-formatter) (23.1)\n",
      "Collecting click>=8.0.0 (from black)\n",
      "  Downloading click-8.1.7-py3-none-any.whl.metadata (3.0 kB)\n",
      "Collecting mypy-extensions>=0.4.3 (from black)\n",
      "  Downloading mypy_extensions-1.0.0-py3-none-any.whl (4.7 kB)\n",
      "Collecting pathspec>=0.9.0 (from black)\n",
      "  Downloading pathspec-0.11.2-py3-none-any.whl.metadata (19 kB)\n",
      "Requirement already satisfied: platformdirs>=2 in c:\\users\\toneriver\\anaconda3\\envs\\pandas_env\\lib\\site-packages (from black) (3.10.0)\n",
      "Requirement already satisfied: tomli>=1.1.0 in c:\\users\\toneriver\\anaconda3\\envs\\pandas_env\\lib\\site-packages (from black) (2.0.1)\n",
      "Requirement already satisfied: typing-extensions>=4.0.1 in c:\\users\\toneriver\\anaconda3\\envs\\pandas_env\\lib\\site-packages (from black) (4.7.1)\n",
      "Requirement already satisfied: colorama in c:\\users\\toneriver\\anaconda3\\envs\\pandas_env\\lib\\site-packages (from click>=8.0.0->black) (0.4.6)\n",
      "Requirement already satisfied: anyio<4,>=3.1.0 in c:\\users\\toneriver\\anaconda3\\envs\\pandas_env\\lib\\site-packages (from jupyter-server<3,>=1.21->jupyterlab-code-formatter) (3.5.0)\n",
      "Requirement already satisfied: argon2-cffi in c:\\users\\toneriver\\anaconda3\\envs\\pandas_env\\lib\\site-packages (from jupyter-server<3,>=1.21->jupyterlab-code-formatter) (21.3.0)\n",
      "Requirement already satisfied: jinja2 in c:\\users\\toneriver\\anaconda3\\envs\\pandas_env\\lib\\site-packages (from jupyter-server<3,>=1.21->jupyterlab-code-formatter) (3.1.2)\n",
      "Requirement already satisfied: jupyter-client>=6.1.12 in c:\\users\\toneriver\\anaconda3\\envs\\pandas_env\\lib\\site-packages (from jupyter-server<3,>=1.21->jupyterlab-code-formatter) (7.4.9)\n",
      "Requirement already satisfied: jupyter-core>=4.7.0 in c:\\users\\toneriver\\anaconda3\\envs\\pandas_env\\lib\\site-packages (from jupyter-server<3,>=1.21->jupyterlab-code-formatter) (5.5.0)\n",
      "Requirement already satisfied: nbconvert>=6.4.4 in c:\\users\\toneriver\\anaconda3\\envs\\pandas_env\\lib\\site-packages (from jupyter-server<3,>=1.21->jupyterlab-code-formatter) (7.10.0)\n",
      "Requirement already satisfied: nbformat>=5.2.0 in c:\\users\\toneriver\\anaconda3\\envs\\pandas_env\\lib\\site-packages (from jupyter-server<3,>=1.21->jupyterlab-code-formatter) (5.9.2)\n",
      "Requirement already satisfied: prometheus-client in c:\\users\\toneriver\\anaconda3\\envs\\pandas_env\\lib\\site-packages (from jupyter-server<3,>=1.21->jupyterlab-code-formatter) (0.14.1)\n",
      "Requirement already satisfied: pyzmq>=17 in c:\\users\\toneriver\\anaconda3\\envs\\pandas_env\\lib\\site-packages (from jupyter-server<3,>=1.21->jupyterlab-code-formatter) (23.2.0)\n",
      "Requirement already satisfied: Send2Trash in c:\\users\\toneriver\\anaconda3\\envs\\pandas_env\\lib\\site-packages (from jupyter-server<3,>=1.21->jupyterlab-code-formatter) (1.8.2)\n",
      "Requirement already satisfied: terminado>=0.8.3 in c:\\users\\toneriver\\anaconda3\\envs\\pandas_env\\lib\\site-packages (from jupyter-server<3,>=1.21->jupyterlab-code-formatter) (0.17.1)\n",
      "Requirement already satisfied: tornado>=6.1.0 in c:\\users\\toneriver\\anaconda3\\envs\\pandas_env\\lib\\site-packages (from jupyter-server<3,>=1.21->jupyterlab-code-formatter) (6.3.3)\n",
      "Requirement already satisfied: traitlets>=5.1 in c:\\users\\toneriver\\anaconda3\\envs\\pandas_env\\lib\\site-packages (from jupyter-server<3,>=1.21->jupyterlab-code-formatter) (5.7.1)\n",
      "Requirement already satisfied: websocket-client in c:\\users\\toneriver\\anaconda3\\envs\\pandas_env\\lib\\site-packages (from jupyter-server<3,>=1.21->jupyterlab-code-formatter) (0.58.0)\n",
      "Requirement already satisfied: pywinpty in c:\\users\\toneriver\\anaconda3\\envs\\pandas_env\\lib\\site-packages (from jupyter-server<3,>=1.21->jupyterlab-code-formatter) (2.0.10)\n",
      "Requirement already satisfied: idna>=2.8 in c:\\users\\toneriver\\anaconda3\\envs\\pandas_env\\lib\\site-packages (from anyio<4,>=3.1.0->jupyter-server<3,>=1.21->jupyterlab-code-formatter) (3.4)\n",
      "Requirement already satisfied: sniffio>=1.1 in c:\\users\\toneriver\\anaconda3\\envs\\pandas_env\\lib\\site-packages (from anyio<4,>=3.1.0->jupyter-server<3,>=1.21->jupyterlab-code-formatter) (1.2.0)\n",
      "Requirement already satisfied: entrypoints in c:\\users\\toneriver\\anaconda3\\envs\\pandas_env\\lib\\site-packages (from jupyter-client>=6.1.12->jupyter-server<3,>=1.21->jupyterlab-code-formatter) (0.4)\n",
      "Requirement already satisfied: nest-asyncio>=1.5.4 in c:\\users\\toneriver\\anaconda3\\envs\\pandas_env\\lib\\site-packages (from jupyter-client>=6.1.12->jupyter-server<3,>=1.21->jupyterlab-code-formatter) (1.5.6)\n",
      "Requirement already satisfied: python-dateutil>=2.8.2 in c:\\users\\toneriver\\anaconda3\\envs\\pandas_env\\lib\\site-packages (from jupyter-client>=6.1.12->jupyter-server<3,>=1.21->jupyterlab-code-formatter) (2.8.2)\n",
      "Requirement already satisfied: pywin32>=300 in c:\\users\\toneriver\\anaconda3\\envs\\pandas_env\\lib\\site-packages (from jupyter-core>=4.7.0->jupyter-server<3,>=1.21->jupyterlab-code-formatter) (305.1)\n",
      "Requirement already satisfied: beautifulsoup4 in c:\\users\\toneriver\\anaconda3\\envs\\pandas_env\\lib\\site-packages (from nbconvert>=6.4.4->jupyter-server<3,>=1.21->jupyterlab-code-formatter) (4.12.2)\n",
      "Requirement already satisfied: bleach!=5.0.0 in c:\\users\\toneriver\\anaconda3\\envs\\pandas_env\\lib\\site-packages (from nbconvert>=6.4.4->jupyter-server<3,>=1.21->jupyterlab-code-formatter) (4.1.0)\n",
      "Requirement already satisfied: defusedxml in c:\\users\\toneriver\\anaconda3\\envs\\pandas_env\\lib\\site-packages (from nbconvert>=6.4.4->jupyter-server<3,>=1.21->jupyterlab-code-formatter) (0.7.1)\n",
      "Requirement already satisfied: importlib-metadata>=3.6 in c:\\users\\toneriver\\anaconda3\\envs\\pandas_env\\lib\\site-packages (from nbconvert>=6.4.4->jupyter-server<3,>=1.21->jupyterlab-code-formatter) (6.0.0)\n",
      "Requirement already satisfied: jupyterlab-pygments in c:\\users\\toneriver\\anaconda3\\envs\\pandas_env\\lib\\site-packages (from nbconvert>=6.4.4->jupyter-server<3,>=1.21->jupyterlab-code-formatter) (0.1.2)\n",
      "Requirement already satisfied: markupsafe>=2.0 in c:\\users\\toneriver\\anaconda3\\envs\\pandas_env\\lib\\site-packages (from nbconvert>=6.4.4->jupyter-server<3,>=1.21->jupyterlab-code-formatter) (2.1.1)\n",
      "Requirement already satisfied: mistune<4,>=2.0.3 in c:\\users\\toneriver\\anaconda3\\envs\\pandas_env\\lib\\site-packages (from nbconvert>=6.4.4->jupyter-server<3,>=1.21->jupyterlab-code-formatter) (2.0.4)\n",
      "Requirement already satisfied: nbclient>=0.5.0 in c:\\users\\toneriver\\anaconda3\\envs\\pandas_env\\lib\\site-packages (from nbconvert>=6.4.4->jupyter-server<3,>=1.21->jupyterlab-code-formatter) (0.8.0)\n",
      "Requirement already satisfied: pandocfilters>=1.4.1 in c:\\users\\toneriver\\anaconda3\\envs\\pandas_env\\lib\\site-packages (from nbconvert>=6.4.4->jupyter-server<3,>=1.21->jupyterlab-code-formatter) (1.5.0)\n",
      "Requirement already satisfied: pygments>=2.4.1 in c:\\users\\toneriver\\anaconda3\\envs\\pandas_env\\lib\\site-packages (from nbconvert>=6.4.4->jupyter-server<3,>=1.21->jupyterlab-code-formatter) (2.15.1)\n",
      "Requirement already satisfied: tinycss2 in c:\\users\\toneriver\\anaconda3\\envs\\pandas_env\\lib\\site-packages (from nbconvert>=6.4.4->jupyter-server<3,>=1.21->jupyterlab-code-formatter) (1.2.1)\n",
      "Requirement already satisfied: fastjsonschema in c:\\users\\toneriver\\anaconda3\\envs\\pandas_env\\lib\\site-packages (from nbformat>=5.2.0->jupyter-server<3,>=1.21->jupyterlab-code-formatter) (2.16.2)\n",
      "Requirement already satisfied: jsonschema>=2.6 in c:\\users\\toneriver\\anaconda3\\envs\\pandas_env\\lib\\site-packages (from nbformat>=5.2.0->jupyter-server<3,>=1.21->jupyterlab-code-formatter) (4.19.2)\n",
      "Requirement already satisfied: argon2-cffi-bindings in c:\\users\\toneriver\\anaconda3\\envs\\pandas_env\\lib\\site-packages (from argon2-cffi->jupyter-server<3,>=1.21->jupyterlab-code-formatter) (21.2.0)\n",
      "Requirement already satisfied: six in c:\\users\\toneriver\\anaconda3\\envs\\pandas_env\\lib\\site-packages (from websocket-client->jupyter-server<3,>=1.21->jupyterlab-code-formatter) (1.16.0)\n",
      "Requirement already satisfied: webencodings in c:\\users\\toneriver\\anaconda3\\envs\\pandas_env\\lib\\site-packages (from bleach!=5.0.0->nbconvert>=6.4.4->jupyter-server<3,>=1.21->jupyterlab-code-formatter) (0.5.1)\n",
      "Requirement already satisfied: zipp>=0.5 in c:\\users\\toneriver\\anaconda3\\envs\\pandas_env\\lib\\site-packages (from importlib-metadata>=3.6->nbconvert>=6.4.4->jupyter-server<3,>=1.21->jupyterlab-code-formatter) (3.11.0)\n",
      "Requirement already satisfied: attrs>=22.2.0 in c:\\users\\toneriver\\anaconda3\\envs\\pandas_env\\lib\\site-packages (from jsonschema>=2.6->nbformat>=5.2.0->jupyter-server<3,>=1.21->jupyterlab-code-formatter) (23.1.0)\n",
      "Requirement already satisfied: importlib-resources>=1.4.0 in c:\\users\\toneriver\\anaconda3\\envs\\pandas_env\\lib\\site-packages (from jsonschema>=2.6->nbformat>=5.2.0->jupyter-server<3,>=1.21->jupyterlab-code-formatter) (6.1.0)\n",
      "Requirement already satisfied: jsonschema-specifications>=2023.03.6 in c:\\users\\toneriver\\anaconda3\\envs\\pandas_env\\lib\\site-packages (from jsonschema>=2.6->nbformat>=5.2.0->jupyter-server<3,>=1.21->jupyterlab-code-formatter) (2023.7.1)\n",
      "Requirement already satisfied: pkgutil-resolve-name>=1.3.10 in c:\\users\\toneriver\\anaconda3\\envs\\pandas_env\\lib\\site-packages (from jsonschema>=2.6->nbformat>=5.2.0->jupyter-server<3,>=1.21->jupyterlab-code-formatter) (1.3.10)\n",
      "Requirement already satisfied: referencing>=0.28.4 in c:\\users\\toneriver\\anaconda3\\envs\\pandas_env\\lib\\site-packages (from jsonschema>=2.6->nbformat>=5.2.0->jupyter-server<3,>=1.21->jupyterlab-code-formatter) (0.30.2)\n",
      "Requirement already satisfied: rpds-py>=0.7.1 in c:\\users\\toneriver\\anaconda3\\envs\\pandas_env\\lib\\site-packages (from jsonschema>=2.6->nbformat>=5.2.0->jupyter-server<3,>=1.21->jupyterlab-code-formatter) (0.10.6)\n",
      "Requirement already satisfied: cffi>=1.0.1 in c:\\users\\toneriver\\anaconda3\\envs\\pandas_env\\lib\\site-packages (from argon2-cffi-bindings->argon2-cffi->jupyter-server<3,>=1.21->jupyterlab-code-formatter) (1.15.1)\n",
      "Requirement already satisfied: soupsieve>1.2 in c:\\users\\toneriver\\anaconda3\\envs\\pandas_env\\lib\\site-packages (from beautifulsoup4->nbconvert>=6.4.4->jupyter-server<3,>=1.21->jupyterlab-code-formatter) (2.5)\n",
      "Requirement already satisfied: pycparser in c:\\users\\toneriver\\anaconda3\\envs\\pandas_env\\lib\\site-packages (from cffi>=1.0.1->argon2-cffi-bindings->argon2-cffi->jupyter-server<3,>=1.21->jupyterlab-code-formatter) (2.21)\n",
      "Downloading jupyterlab_code_formatter-2.2.1-py3-none-any.whl (30 kB)\n",
      "Downloading black-23.11.0-cp38-cp38-win_amd64.whl (1.3 MB)\n",
      "   ---------------------------------------- 0.0/1.3 MB ? eta -:--:--\n",
      "   ----------------- ---------------------- 0.6/1.3 MB 18.2 MB/s eta 0:00:01\n",
      "   ------------------------------------- -- 1.3/1.3 MB 16.1 MB/s eta 0:00:01\n",
      "   ---------------------------------------- 1.3/1.3 MB 14.1 MB/s eta 0:00:00\n",
      "Downloading click-8.1.7-py3-none-any.whl (97 kB)\n",
      "   ---------------------------------------- 0.0/97.9 kB ? eta -:--:--\n",
      "   ---------------------------------------- 97.9/97.9 kB ? eta 0:00:00\n",
      "Downloading pathspec-0.11.2-py3-none-any.whl (29 kB)\n",
      "Installing collected packages: pathspec, mypy-extensions, isort, click, black, jupyterlab-code-formatter\n",
      "Successfully installed black-23.11.0 click-8.1.7 isort-5.12.0 jupyterlab-code-formatter-2.2.1 mypy-extensions-1.0.0 pathspec-0.11.2\n",
      "Note: you may need to restart the kernel to use updated packages.\n"
     ]
    }
   ],
   "source": [
    "pip install jupyterlab-code-formatter black isort"
   ]
  },
  {
   "cell_type": "code",
   "execution_count": 1,
   "metadata": {
    "execution": {
     "iopub.execute_input": "2023-11-11T23:50:01.520768Z",
     "iopub.status.busy": "2023-11-11T23:50:01.520768Z",
     "iopub.status.idle": "2023-11-11T23:50:02.064374Z",
     "shell.execute_reply": "2023-11-11T23:50:02.063492Z",
     "shell.execute_reply.started": "2023-11-11T23:50:01.520768Z"
    },
    "tags": []
   },
   "outputs": [
    {
     "ename": "ModuleNotFoundError",
     "evalue": "No module named 'num'",
     "output_type": "error",
     "traceback": [
      "\u001b[1;31m---------------------------------------------------------------------------\u001b[0m",
      "\u001b[1;31mModuleNotFoundError\u001b[0m                       Traceback (most recent call last)",
      "Cell \u001b[1;32mIn[1], line 1\u001b[0m\n\u001b[1;32m----> 1\u001b[0m \u001b[38;5;28;01mimport\u001b[39;00m \u001b[38;5;21;01mnum\u001b[39;00m\n",
      "\u001b[1;31mModuleNotFoundError\u001b[0m: No module named 'num'"
     ]
    }
   ],
   "source": [
    "import numpy as np"
   ]
  },
  {
   "cell_type": "code",
   "execution_count": 1,
   "metadata": {
    "execution": {
     "iopub.execute_input": "2023-11-11T23:52:28.181220Z",
     "iopub.status.busy": "2023-11-11T23:52:28.181220Z",
     "iopub.status.idle": "2023-11-11T23:52:30.527591Z",
     "shell.execute_reply": "2023-11-11T23:52:30.526569Z",
     "shell.execute_reply.started": "2023-11-11T23:52:28.181220Z"
    }
   },
   "outputs": [
    {
     "name": "stdout",
     "output_type": "stream",
     "text": [
      "Collecting jupyterlab-language-pack-ja-JPNote: you may need to restart the kernel to use updated packages.\n",
      "\n",
      "  Downloading jupyterlab_language_pack_ja_jp-4.0.post5-py2.py3-none-any.whl.metadata (2.7 kB)\n",
      "Downloading jupyterlab_language_pack_ja_jp-4.0.post5-py2.py3-none-any.whl (57 kB)\n",
      "   ---------------------------------------- 0.0/57.9 kB ? eta -:--:--\n",
      "   -------------- ------------------------- 20.5/57.9 kB 682.7 kB/s eta 0:00:01\n",
      "   ---------------------------------------- 57.9/57.9 kB 768.9 kB/s eta 0:00:00\n",
      "Installing collected packages: jupyterlab-language-pack-ja-JP\n",
      "Successfully installed jupyterlab-language-pack-ja-JP-4.0.post5\n"
     ]
    }
   ],
   "source": [
    "pip install jupyterlab-language-pack-ja-JP"
   ]
  },
  {
   "cell_type": "code",
   "execution_count": null,
   "metadata": {},
   "outputs": [],
   "source": []
  }
 ],
 "metadata": {
  "kernelspec": {
   "display_name": "Python 3 (ipykernel)",
   "language": "python",
   "name": "python3"
  },
  "language_info": {
   "codemirror_mode": {
    "name": "ipython",
    "version": 3
   },
   "file_extension": ".py",
   "mimetype": "text/x-python",
   "name": "python",
   "nbconvert_exporter": "python",
   "pygments_lexer": "ipython3",
   "version": "3.8.18"
  },
  "toc": {
   "base_numbering": 1,
   "nav_menu": {},
   "number_sections": true,
   "sideBar": true,
   "skip_h1_title": false,
   "title_cell": "Table of Contents",
   "title_sidebar": "Contents",
   "toc_cell": false,
   "toc_position": {},
   "toc_section_display": true,
   "toc_window_display": true
  },
  "varInspector": {
   "cols": {
    "lenName": 16,
    "lenType": 16,
    "lenVar": 40
   },
   "kernels_config": {
    "python": {
     "delete_cmd_postfix": "",
     "delete_cmd_prefix": "del ",
     "library": "var_list.py",
     "varRefreshCmd": "print(var_dic_list())"
    },
    "r": {
     "delete_cmd_postfix": ") ",
     "delete_cmd_prefix": "rm(",
     "library": "var_list.r",
     "varRefreshCmd": "cat(var_dic_list()) "
    }
   },
   "types_to_exclude": [
    "module",
    "function",
    "builtin_function_or_method",
    "instance",
    "_Feature"
   ],
   "window_display": false
  },
  "widgets": {
   "application/vnd.jupyter.widget-state+json": {
    "state": {},
    "version_major": 2,
    "version_minor": 0
   }
  }
 },
 "nbformat": 4,
 "nbformat_minor": 4
}
