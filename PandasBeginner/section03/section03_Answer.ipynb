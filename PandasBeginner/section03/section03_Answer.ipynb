{
 "cells": [
  {
   "cell_type": "markdown",
   "metadata": {
    "toc": true
   },
   "source": [
    "<h1>Table of Contents<span class=\"tocSkip\"></span></h1>\n",
    "<div class=\"toc\"><ul class=\"toc-item\"><li><span><a href=\"#第3回-|-Pandasのコア-:-DataFrameの特徴と作成方法\" data-toc-modified-id=\"第3回-|-Pandasのコア-:-DataFrameの特徴と作成方法-1\"><span class=\"toc-item-num\">1&nbsp;&nbsp;</span>第3回 | Pandasのコア : DataFrameの特徴と作成方法</a></span><ul class=\"toc-item\"><li><span><a href=\"#ライブラリのインポート\" data-toc-modified-id=\"ライブラリのインポート-1.1\"><span class=\"toc-item-num\">1.1&nbsp;&nbsp;</span>ライブラリのインポート</a></span></li></ul></li><li><span><a href=\"#DataFrameとは？\" data-toc-modified-id=\"DataFrameとは？-2\"><span class=\"toc-item-num\">2&nbsp;&nbsp;</span>DataFrameとは？</a></span></li><li><span><a href=\"#DataFrameの作成方法\" data-toc-modified-id=\"DataFrameの作成方法-3\"><span class=\"toc-item-num\">3&nbsp;&nbsp;</span>DataFrameの作成方法</a></span><ul class=\"toc-item\"><li><span><a href=\"#パターン①-:-二次元リストから作成\" data-toc-modified-id=\"パターン①-:-二次元リストから作成-3.1\"><span class=\"toc-item-num\">3.1&nbsp;&nbsp;</span>パターン① : 二次元リストから作成</a></span></li><li><span><a href=\"#パターン②-:-辞書から作成\" data-toc-modified-id=\"パターン②-:-辞書から作成-3.2\"><span class=\"toc-item-num\">3.2&nbsp;&nbsp;</span>パターン② : 辞書から作成</a></span></li><li><span><a href=\"#パターン③-:-辞書を格納したリストから作成\" data-toc-modified-id=\"パターン③-:-辞書を格納したリストから作成-3.3\"><span class=\"toc-item-num\">3.3&nbsp;&nbsp;</span>パターン③ : 辞書を格納したリストから作成</a></span></li></ul></li><li><span><a href=\"#まとめ\" data-toc-modified-id=\"まとめ-4\"><span class=\"toc-item-num\">4&nbsp;&nbsp;</span>まとめ</a></span></li></ul></div>"
   ]
  },
  {
   "cell_type": "markdown",
   "metadata": {},
   "source": [
    "# 第3回 | Pandasのコア : DataFrameの特徴と作成方法\n",
    "\n",
    "今回の講義では、PandasのコアになるDataFrame(データフレーム)について紹介していきます。\n",
    "\n",
    "具体的には、以下の内容に触れていきます。\n",
    "\n",
    "- DataFrameの特徴\n",
    "- DataFrameの作成方法\n",
    "\n",
    "Pandasを使うなら、特にDataFrameの取り扱いは非常に重要です。それはPandasのお作法が、DataFrameに始まって、DataFrameに終わるからです。\n",
    "\n",
    "データ分析を目的にPythonを勉強していくなら、自由自在にPandas DataFrameを取り扱えることが重要になってきます。\n",
    "\n",
    "<br>\n",
    "\n",
    "そのため、まずは今回の講義でDataFrameの特徴と作成方法について学んでいきましょう。\n",
    "\n",
    "もし難しいと感じる内容があったら、ぜひ復習しながら学習を進めてみてくださいね！"
   ]
  },
  {
   "cell_type": "markdown",
   "metadata": {},
   "source": [
    "## ライブラリのインポート\n",
    "\n",
    "まずは、今回使っていくPythonライブラリをインポートしていきましょう。\n",
    "\n",
    "この講義シリーズのタイトルにもなっている`Pandas`を読み込んであげます。また、直接的には使わないのですが、あわせて`Numpy`をインポートしておきましょう。"
   ]
  },
  {
   "cell_type": "code",
   "execution_count": 1,
   "metadata": {},
   "outputs": [],
   "source": [
    "# ライブラリのインポート\n",
    "import pandas as pd\n",
    "import numpy as np"
   ]
  },
  {
   "cell_type": "markdown",
   "metadata": {},
   "source": [
    "それぞれのライブラリをインポートするとき、`as`を使って別名をつけています。このように書いてインポートすると、わざわざ`pandas`と書かずに`pd`だけでPandasライブラリを使えるようになります。\n",
    "\n",
    "`pd`と省略する理由に関しては、しきたりみたいなものです。Pandasをインポートするときは、`as pd`を付けるようになっていて、ネット上の記事を検索しても99%(※1)の記事では`pd`と省略されています。\n",
    "\n",
    "*※1 : はやたす統計調査より*"
   ]
  },
  {
   "cell_type": "markdown",
   "metadata": {},
   "source": [
    "# DataFrameとは？\n",
    "\n",
    "DataFrame(データフレーム)とは、二次元の表形式をしたPandasオブジェクトのことです。\n",
    "\n",
    "イメージ図が以下になります。"
   ]
  },
  {
   "cell_type": "code",
   "execution_count": 3,
   "metadata": {
    "code_folding": [
     0
    ]
   },
   "outputs": [
    {
     "data": {
      "text/html": [
       "<div>\n",
       "<style scoped>\n",
       "    .dataframe tbody tr th:only-of-type {\n",
       "        vertical-align: middle;\n",
       "    }\n",
       "\n",
       "    .dataframe tbody tr th {\n",
       "        vertical-align: top;\n",
       "    }\n",
       "\n",
       "    .dataframe thead th {\n",
       "        text-align: right;\n",
       "    }\n",
       "</style>\n",
       "<table border=\"1\" class=\"dataframe\">\n",
       "  <thead>\n",
       "    <tr style=\"text-align: right;\">\n",
       "      <th></th>\n",
       "      <th>名前</th>\n",
       "      <th>性別</th>\n",
       "      <th>クラス</th>\n",
       "      <th>数学の得点</th>\n",
       "      <th>英語の得点</th>\n",
       "    </tr>\n",
       "  </thead>\n",
       "  <tbody>\n",
       "    <tr>\n",
       "      <th>0</th>\n",
       "      <td>A君</td>\n",
       "      <td>男性</td>\n",
       "      <td>B</td>\n",
       "      <td>46</td>\n",
       "      <td>58</td>\n",
       "    </tr>\n",
       "    <tr>\n",
       "      <th>1</th>\n",
       "      <td>Bさん</td>\n",
       "      <td>女性</td>\n",
       "      <td>A</td>\n",
       "      <td>36</td>\n",
       "      <td>90</td>\n",
       "    </tr>\n",
       "    <tr>\n",
       "      <th>2</th>\n",
       "      <td>C君</td>\n",
       "      <td>男性</td>\n",
       "      <td>A</td>\n",
       "      <td>50</td>\n",
       "      <td>74</td>\n",
       "    </tr>\n",
       "    <tr>\n",
       "      <th>3</th>\n",
       "      <td>D君</td>\n",
       "      <td>男性</td>\n",
       "      <td>B</td>\n",
       "      <td>85</td>\n",
       "      <td>68</td>\n",
       "    </tr>\n",
       "  </tbody>\n",
       "</table>\n",
       "</div>"
      ],
      "text/plain": [
       "    名前  性別 クラス  数学の得点  英語の得点\n",
       "0   A君  男性   B     46     58\n",
       "1  Bさん  女性   A     36     90\n",
       "2   C君  男性   A     50     74\n",
       "3   D君  男性   B     85     68"
      ]
     },
     "execution_count": 3,
     "metadata": {},
     "output_type": "execute_result"
    }
   ],
   "source": [
    "# データフレームを作成するコード\n",
    "pd.DataFrame([\n",
    "    ['A君', '男性', 'B', 46, 58],\n",
    "    ['Bさん', '女性', 'A', 36, 90],\n",
    "    ['C君', '男性', 'A', 50, 74],\n",
    "    ['D君', '男性', 'B', 85, 68]\n",
    "],columns=['名前', '性別', 'クラス', '数学の得点', '英語の得点'])"
   ]
  },
  {
   "attachments": {
    "panda-dataframe-sample2.png": {
     "image/png": "[encoded data removed]"
    }
   },
   "cell_type": "markdown",
   "metadata": {},
   "source": [
    "「二次元」という言葉が難しいかもしれませんが、これは「”縦”と”横”を持っている」という意味になります。\n",
    "\n",
    "Excelやスプレッドシートの利用経験があれば、イメージはそれと同じです。Excelやスプレッドシートでは、”縦”や”横”のことを以下のように呼びます。\n",
    "\n",
    "- 縦 : 列(=column)\n",
    "- 横 : 行(=row)\n",
    "\n",
    "Pandasでも同様で、縦のことを「列」、横のことを「行」と呼びます。\n",
    "\n",
    "<br>\n",
    "\n",
    "![panda-dataframe-sample2.png](attachment:panda-dataframe-sample2.png)\n",
    "<!-- <img src=\"./imgs/panda-dataframe-sample2.png\" width=\"400px\"> -->\n",
    "\n",
    "<br>\n",
    "\n",
    "Python上でまとまったデータを扱うとき、リストや辞書を使いますよね。でも、これらのデータ構造でデータ分析に対応しようとすると、やはり不便な部分があります。\n",
    "\n",
    "では「どうすればスムーズにデータ分析できるか」と考えたとき、やはりExcelやスプレッドシートのような表形式で表示されているデータが思い浮かぶはずです。\n",
    "\n",
    "<br>\n",
    "\n",
    "事実、プログラミングを使わないデータ分析ではExcelが使われますよね。\n",
    "\n",
    "Pandasでは、DataFrameという表形式のデータを操作することで、スムーズなデータの加工・集計・可視化が可能になるわけです。"
   ]
  },
  {
   "cell_type": "markdown",
   "metadata": {},
   "source": [
    "# DataFrameの作成方法\n",
    "\n",
    "Pandas.DataFrameには、作成方法が複数あります。\n",
    "\n",
    "- パターン① : 二次元リストから作成\n",
    "- パターン② : 辞書から作成\n",
    "- パターン③ : 辞書を格納したリストから作成\n",
    "\n",
    "実は他にも作成方法がありますが、ほとんどの場合で上記に集約できます。\n",
    "\n",
    "今回は「名前・数学の得点・英語の得点」が格納された以下の表を作るコードで、上記の3パターンを比較していきましょう。"
   ]
  },
  {
   "cell_type": "code",
   "execution_count": 4,
   "metadata": {
    "code_folding": [
     0
    ]
   },
   "outputs": [
    {
     "data": {
      "text/html": [
       "<div>\n",
       "<style scoped>\n",
       "    .dataframe tbody tr th:only-of-type {\n",
       "        vertical-align: middle;\n",
       "    }\n",
       "\n",
       "    .dataframe tbody tr th {\n",
       "        vertical-align: top;\n",
       "    }\n",
       "\n",
       "    .dataframe thead th {\n",
       "        text-align: right;\n",
       "    }\n",
       "</style>\n",
       "<table border=\"1\" class=\"dataframe\">\n",
       "  <thead>\n",
       "    <tr style=\"text-align: right;\">\n",
       "      <th></th>\n",
       "      <th>name</th>\n",
       "      <th>math</th>\n",
       "      <th>english</th>\n",
       "    </tr>\n",
       "  </thead>\n",
       "  <tbody>\n",
       "    <tr>\n",
       "      <th>0</th>\n",
       "      <td>A君</td>\n",
       "      <td>46</td>\n",
       "      <td>58</td>\n",
       "    </tr>\n",
       "    <tr>\n",
       "      <th>1</th>\n",
       "      <td>Bさん</td>\n",
       "      <td>36</td>\n",
       "      <td>90</td>\n",
       "    </tr>\n",
       "    <tr>\n",
       "      <th>2</th>\n",
       "      <td>C君</td>\n",
       "      <td>50</td>\n",
       "      <td>74</td>\n",
       "    </tr>\n",
       "    <tr>\n",
       "      <th>3</th>\n",
       "      <td>D君</td>\n",
       "      <td>85</td>\n",
       "      <td>68</td>\n",
       "    </tr>\n",
       "  </tbody>\n",
       "</table>\n",
       "</div>"
      ],
      "text/plain": [
       "  name  math  english\n",
       "0   A君    46       58\n",
       "1  Bさん    36       90\n",
       "2   C君    50       74\n",
       "3   D君    85       68"
      ]
     },
     "execution_count": 4,
     "metadata": {},
     "output_type": "execute_result"
    }
   ],
   "source": [
    "# データフレームを作成するコード\n",
    "pd.DataFrame([\n",
    "    ['A君', 46, 58],\n",
    "    ['Bさん', 36, 90],\n",
    "    ['C君', 50, 74],\n",
    "    ['D君', 85, 68]\n",
    "],columns=['name', 'math', 'english'])"
   ]
  },
  {
   "cell_type": "markdown",
   "metadata": {},
   "source": [
    "## パターン① : 二次元リストから作成\n",
    "\n",
    "DataFrameを作成する方法の1つ目が、二次元リストから作成するパターンです。ここでは、以下のようなコードを作成してみましょう。"
   ]
  },
  {
   "cell_type": "code",
   "execution_count": 5,
   "metadata": {},
   "outputs": [],
   "source": [
    "# 二次元リストからDataFrameを作成して変数dfに格納する\n",
    "df = pd.DataFrame([\n",
    "    ['A君', 46, 58],\n",
    "    ['Bさん', 36, 90],\n",
    "    ['C君', 50, 74],\n",
    "    ['D君', 85, 68]\n",
    "])"
   ]
  },
  {
   "cell_type": "markdown",
   "metadata": {},
   "source": [
    "上記のように、リスト内にリストを格納することで、いま見ている形式でDataFrameを作成できます。\n",
    "\n",
    "作成したDataFrameの中身を確認するには、以下のようにNotebookのセル内で`df`を書いて実行します。"
   ]
  },
  {
   "cell_type": "code",
   "execution_count": 6,
   "metadata": {},
   "outputs": [
    {
     "data": {
      "text/html": [
       "<div>\n",
       "<style scoped>\n",
       "    .dataframe tbody tr th:only-of-type {\n",
       "        vertical-align: middle;\n",
       "    }\n",
       "\n",
       "    .dataframe tbody tr th {\n",
       "        vertical-align: top;\n",
       "    }\n",
       "\n",
       "    .dataframe thead th {\n",
       "        text-align: right;\n",
       "    }\n",
       "</style>\n",
       "<table border=\"1\" class=\"dataframe\">\n",
       "  <thead>\n",
       "    <tr style=\"text-align: right;\">\n",
       "      <th></th>\n",
       "      <th>0</th>\n",
       "      <th>1</th>\n",
       "      <th>2</th>\n",
       "    </tr>\n",
       "  </thead>\n",
       "  <tbody>\n",
       "    <tr>\n",
       "      <th>0</th>\n",
       "      <td>A君</td>\n",
       "      <td>46</td>\n",
       "      <td>58</td>\n",
       "    </tr>\n",
       "    <tr>\n",
       "      <th>1</th>\n",
       "      <td>Bさん</td>\n",
       "      <td>36</td>\n",
       "      <td>90</td>\n",
       "    </tr>\n",
       "    <tr>\n",
       "      <th>2</th>\n",
       "      <td>C君</td>\n",
       "      <td>50</td>\n",
       "      <td>74</td>\n",
       "    </tr>\n",
       "    <tr>\n",
       "      <th>3</th>\n",
       "      <td>D君</td>\n",
       "      <td>85</td>\n",
       "      <td>68</td>\n",
       "    </tr>\n",
       "  </tbody>\n",
       "</table>\n",
       "</div>"
      ],
      "text/plain": [
       "     0   1   2\n",
       "0   A君  46  58\n",
       "1  Bさん  36  90\n",
       "2   C君  50  74\n",
       "3   D君  85  68"
      ]
     },
     "execution_count": 6,
     "metadata": {},
     "output_type": "execute_result"
    }
   ],
   "source": [
    "# DataFrameの中身を確認する\n",
    "df"
   ]
  },
  {
   "cell_type": "markdown",
   "metadata": {},
   "source": [
    "二次元リストから作成する場合、同じ見た目のDataFrameが出力されるので、直感的に分かりやすいと思います。\n",
    "\n",
    "あとは、デフォルトだと列名(=カラム名)が付いていません。DataFrameにカラム名を付与するには、作成時に`columns=カラム名のリスト`で引数にリストを渡してあげます。"
   ]
  },
  {
   "cell_type": "code",
   "execution_count": 7,
   "metadata": {},
   "outputs": [],
   "source": [
    "# カラム名を付与して、二次元リストから作成したDataFrameを変数df2に格納する\n",
    "df2 = pd.DataFrame([\n",
    "    ['A君', 46, 58],\n",
    "    ['Bさん', 36, 90],\n",
    "    ['C君', 50, 74],\n",
    "    ['D君', 85, 68]\n",
    "],columns=['name', 'math', 'english'])"
   ]
  },
  {
   "cell_type": "markdown",
   "metadata": {},
   "source": [
    "これでカラム名を付与したDataFrameの作成が完了しました。中身を確認してみましょう。"
   ]
  },
  {
   "cell_type": "code",
   "execution_count": 8,
   "metadata": {},
   "outputs": [
    {
     "data": {
      "text/html": [
       "<div>\n",
       "<style scoped>\n",
       "    .dataframe tbody tr th:only-of-type {\n",
       "        vertical-align: middle;\n",
       "    }\n",
       "\n",
       "    .dataframe tbody tr th {\n",
       "        vertical-align: top;\n",
       "    }\n",
       "\n",
       "    .dataframe thead th {\n",
       "        text-align: right;\n",
       "    }\n",
       "</style>\n",
       "<table border=\"1\" class=\"dataframe\">\n",
       "  <thead>\n",
       "    <tr style=\"text-align: right;\">\n",
       "      <th></th>\n",
       "      <th>name</th>\n",
       "      <th>math</th>\n",
       "      <th>english</th>\n",
       "    </tr>\n",
       "  </thead>\n",
       "  <tbody>\n",
       "    <tr>\n",
       "      <th>0</th>\n",
       "      <td>A君</td>\n",
       "      <td>46</td>\n",
       "      <td>58</td>\n",
       "    </tr>\n",
       "    <tr>\n",
       "      <th>1</th>\n",
       "      <td>Bさん</td>\n",
       "      <td>36</td>\n",
       "      <td>90</td>\n",
       "    </tr>\n",
       "    <tr>\n",
       "      <th>2</th>\n",
       "      <td>C君</td>\n",
       "      <td>50</td>\n",
       "      <td>74</td>\n",
       "    </tr>\n",
       "    <tr>\n",
       "      <th>3</th>\n",
       "      <td>D君</td>\n",
       "      <td>85</td>\n",
       "      <td>68</td>\n",
       "    </tr>\n",
       "  </tbody>\n",
       "</table>\n",
       "</div>"
      ],
      "text/plain": [
       "  name  math  english\n",
       "0   A君    46       58\n",
       "1  Bさん    36       90\n",
       "2   C君    50       74\n",
       "3   D君    85       68"
      ]
     },
     "execution_count": 8,
     "metadata": {},
     "output_type": "execute_result"
    }
   ],
   "source": [
    "# DataFrameの中身を確認する\n",
    "df2"
   ]
  },
  {
   "cell_type": "markdown",
   "metadata": {},
   "source": [
    "カラム名が付与された形でDataFrameを作成できていますね。"
   ]
  },
  {
   "cell_type": "markdown",
   "metadata": {},
   "source": [
    "## パターン② : 辞書から作成\n",
    "\n",
    "DataFrameを作成する方法の2つ目が、Pythonの辞書から作成するパターンです。\n",
    "\n",
    "細かい解説をするより、先にコードを見てみましょう。"
   ]
  },
  {
   "cell_type": "code",
   "execution_count": 9,
   "metadata": {},
   "outputs": [],
   "source": [
    "# 辞書を使ってDataFrameを作成して変数df3に格納する\n",
    "df3 = pd.DataFrame({\n",
    "    'name': ['A君', 'Bさん', 'C君', 'D君'],\n",
    "    'math': [46, 36, 50, 85],\n",
    "    'english': [58, 90, 74, 68]\n",
    "})"
   ]
  },
  {
   "cell_type": "markdown",
   "metadata": {},
   "source": [
    "上記のように`{カラム名: 中身になるリスト}`を格納した辞書を渡すことで、DataFrameを作成できます。\n",
    "\n",
    "本当に作成できているか確認したいので、いま作成したDataFrameを表示してみましょう。"
   ]
  },
  {
   "cell_type": "code",
   "execution_count": 10,
   "metadata": {},
   "outputs": [
    {
     "data": {
      "text/html": [
       "<div>\n",
       "<style scoped>\n",
       "    .dataframe tbody tr th:only-of-type {\n",
       "        vertical-align: middle;\n",
       "    }\n",
       "\n",
       "    .dataframe tbody tr th {\n",
       "        vertical-align: top;\n",
       "    }\n",
       "\n",
       "    .dataframe thead th {\n",
       "        text-align: right;\n",
       "    }\n",
       "</style>\n",
       "<table border=\"1\" class=\"dataframe\">\n",
       "  <thead>\n",
       "    <tr style=\"text-align: right;\">\n",
       "      <th></th>\n",
       "      <th>name</th>\n",
       "      <th>math</th>\n",
       "      <th>english</th>\n",
       "    </tr>\n",
       "  </thead>\n",
       "  <tbody>\n",
       "    <tr>\n",
       "      <th>0</th>\n",
       "      <td>A君</td>\n",
       "      <td>46</td>\n",
       "      <td>58</td>\n",
       "    </tr>\n",
       "    <tr>\n",
       "      <th>1</th>\n",
       "      <td>Bさん</td>\n",
       "      <td>36</td>\n",
       "      <td>90</td>\n",
       "    </tr>\n",
       "    <tr>\n",
       "      <th>2</th>\n",
       "      <td>C君</td>\n",
       "      <td>50</td>\n",
       "      <td>74</td>\n",
       "    </tr>\n",
       "    <tr>\n",
       "      <th>3</th>\n",
       "      <td>D君</td>\n",
       "      <td>85</td>\n",
       "      <td>68</td>\n",
       "    </tr>\n",
       "  </tbody>\n",
       "</table>\n",
       "</div>"
      ],
      "text/plain": [
       "  name  math  english\n",
       "0   A君    46       58\n",
       "1  Bさん    36       90\n",
       "2   C君    50       74\n",
       "3   D君    85       68"
      ]
     },
     "execution_count": 10,
     "metadata": {},
     "output_type": "execute_result"
    }
   ],
   "source": [
    "# DataFrameの中身を確認する\n",
    "df3"
   ]
  },
  {
   "cell_type": "markdown",
   "metadata": {},
   "source": [
    "出力結果を見てみると、二次元リストから作成したDataFrameと同じであることが分かります。\n",
    "\n",
    "<br>\n",
    "\n",
    "二次元リストを基にしたときは、横向きで直感的に分かりやすい形でDataFrameを作成できました。\n",
    "\n",
    "それに対して、辞書を基にする場合は、縦向きでDataFrameを作成することになります。\n",
    "\n",
    "<br>\n",
    "\n",
    "その代わり、辞書からDataFrameを作成する方法だと、カラム名を指定する必要がないというメリットもありますね。"
   ]
  },
  {
   "cell_type": "markdown",
   "metadata": {},
   "source": [
    "## パターン③ : 辞書を格納したリストから作成\n",
    "\n",
    "DataFrameを作成する方法の3つ目が、辞書を格納したリストから作成するパターンです。\n",
    "\n",
    "「辞書を格納したリスト」という言葉が少しややこしいですが、渡すものとしてはリストになります。\n",
    "\n",
    "<br>\n",
    "\n",
    "今回も先にコードを見てみましょう。"
   ]
  },
  {
   "cell_type": "code",
   "execution_count": 11,
   "metadata": {},
   "outputs": [],
   "source": [
    "# DataFrameに渡すリストを作成して、変数d_listに格納する\n",
    "d_list = [\n",
    "    {'name': 'A君', 'math': 46, 'english': 58},\n",
    "    {'name': 'Bさん', 'math': 36, 'english': 90},\n",
    "    {'name': 'C君', 'math': 50, 'english': 74},\n",
    "    {'name': 'D君', 'math': 85, 'english': 68}\n",
    "]\n",
    "\n",
    "# d_listを基にDataFrameを作成して、変数df4に格納する\n",
    "df4 = pd.DataFrame(d_list)"
   ]
  },
  {
   "cell_type": "markdown",
   "metadata": {},
   "source": [
    "これが辞書を格納したリストからDataFrameを作成する方法です。\n",
    "\n",
    "今回はコードを見やすくするために、DataFrameに渡すリストを別で作成しました。\n",
    "\n",
    "<br>\n",
    "\n",
    "Pythonの辞書を使ってはいるものの、パターン②のように縦向きではなく、パターン①と同じ横向きでDataFrameを作成できています。\n",
    "\n",
    "\n",
    "<br>\n",
    "\n",
    "それでは、いま作成したDataFrameの中身を確認してみましょう。"
   ]
  },
  {
   "cell_type": "code",
   "execution_count": 12,
   "metadata": {},
   "outputs": [
    {
     "data": {
      "text/html": [
       "<div>\n",
       "<style scoped>\n",
       "    .dataframe tbody tr th:only-of-type {\n",
       "        vertical-align: middle;\n",
       "    }\n",
       "\n",
       "    .dataframe tbody tr th {\n",
       "        vertical-align: top;\n",
       "    }\n",
       "\n",
       "    .dataframe thead th {\n",
       "        text-align: right;\n",
       "    }\n",
       "</style>\n",
       "<table border=\"1\" class=\"dataframe\">\n",
       "  <thead>\n",
       "    <tr style=\"text-align: right;\">\n",
       "      <th></th>\n",
       "      <th>name</th>\n",
       "      <th>math</th>\n",
       "      <th>english</th>\n",
       "    </tr>\n",
       "  </thead>\n",
       "  <tbody>\n",
       "    <tr>\n",
       "      <th>0</th>\n",
       "      <td>A君</td>\n",
       "      <td>46</td>\n",
       "      <td>58</td>\n",
       "    </tr>\n",
       "    <tr>\n",
       "      <th>1</th>\n",
       "      <td>Bさん</td>\n",
       "      <td>36</td>\n",
       "      <td>90</td>\n",
       "    </tr>\n",
       "    <tr>\n",
       "      <th>2</th>\n",
       "      <td>C君</td>\n",
       "      <td>50</td>\n",
       "      <td>74</td>\n",
       "    </tr>\n",
       "    <tr>\n",
       "      <th>3</th>\n",
       "      <td>D君</td>\n",
       "      <td>85</td>\n",
       "      <td>68</td>\n",
       "    </tr>\n",
       "  </tbody>\n",
       "</table>\n",
       "</div>"
      ],
      "text/plain": [
       "  name  math  english\n",
       "0   A君    46       58\n",
       "1  Bさん    36       90\n",
       "2   C君    50       74\n",
       "3   D君    85       68"
      ]
     },
     "execution_count": 12,
     "metadata": {},
     "output_type": "execute_result"
    }
   ],
   "source": [
    "# DataFrameの中身を確認する\n",
    "df4"
   ]
  },
  {
   "cell_type": "markdown",
   "metadata": {},
   "source": [
    "出力結果を見てみると、`df2`や`df3`と同じで、目的にしているDataFrameを作成できていることが分かりますね。\n",
    "\n",
    "<br>\n",
    "\n",
    "ここまでが、Pandas.DataFrameを作成する3つの方法でした。\n",
    "\n",
    "本や教材によって、紹介されているDataFrameの作成方法は変わってきます。でも、最終的には今回紹介した3つの方法に集約できるはずです。\n",
    "\n",
    "<br>\n",
    "\n",
    "Pandasは同じことを実装するとき、良くも悪くも色々な方法で書けてしまいます。\n",
    "\n",
    "そのため、自分の書きやすいスタイルを確立しておくのがオススメです。もし会社やチームで決まっているスタイルがあるなら、それに従うようにしましょう。"
   ]
  },
  {
   "cell_type": "markdown",
   "metadata": {},
   "source": [
    "# まとめ\n",
    "\n",
    "というわけで、今回はDataFrameの特徴と作成方法を3パターン紹介してきました。\n",
    "\n",
    "おそらく、ここまで学習していただくと「*DataFrameを作成するとき、どの方法を使えば良いんだろう...？*」といった疑問を持たれるはずです。\n",
    "\n",
    "<br>\n",
    "\n",
    "全部分かるに越したことはないですが、とはいえ最初は1つだけに絞ってDataFrameの作成方法をマスターするのが良いと思います。\n",
    "\n",
    "そのため、次回の講義ではおすすめのDataFrame作成方法を紹介します。\n",
    "\n",
    "<br>\n",
    "\n",
    "具体的に、実務でも使える知識を習得するために、**APIから取得したデータをDataFrameに変換**していきます。\n",
    "\n",
    "データ分析職に就きたい人にとって、間違いなく役に立つスキルになるので、ぜひ楽しみにして頂けると嬉しいです！\n",
    "\n",
    "<br>\n",
    "\n",
    "それでは、この調子で頑張っていきましょう！\n",
    "\n",
    "<hr>\n",
    "\n",
    "講義の感想をメンションつけてツイートしていただけると嬉しいです！\n",
    "\n",
    "Twitter : はやたす([@hayatasuuu](https://twitter.com/hayatasuuu) )"
   ]
  }
 ],
 "metadata": {
  "kernelspec": {
   "display_name": "Python 3",
   "language": "python",
   "name": "python3"
  },
  "language_info": {
   "codemirror_mode": {
    "name": "ipython",
    "version": 3
   },
   "file_extension": ".py",
   "mimetype": "text/x-python",
   "name": "python",
   "nbconvert_exporter": "python",
   "pygments_lexer": "ipython3",
   "version": "3.8.8"
  },
  "toc": {
   "base_numbering": 1,
   "nav_menu": {},
   "number_sections": true,
   "sideBar": true,
   "skip_h1_title": false,
   "title_cell": "Table of Contents",
   "title_sidebar": "Contents",
   "toc_cell": true,
   "toc_position": {},
   "toc_section_display": true,
   "toc_window_display": true
  },
  "varInspector": {
   "cols": {
    "lenName": 16,
    "lenType": 16,
    "lenVar": 40
   },
   "kernels_config": {
    "python": {
     "delete_cmd_postfix": "",
     "delete_cmd_prefix": "del ",
     "library": "var_list.py",
     "varRefreshCmd": "print(var_dic_list())"
    },
    "r": {
     "delete_cmd_postfix": ") ",
     "delete_cmd_prefix": "rm(",
     "library": "var_list.r",
     "varRefreshCmd": "cat(var_dic_list()) "
    }
   },
   "types_to_exclude": [
    "module",
    "function",
    "builtin_function_or_method",
    "instance",
    "_Feature"
   ],
   "window_display": false
  }
 },
 "nbformat": 4,
 "nbformat_minor": 2
}
