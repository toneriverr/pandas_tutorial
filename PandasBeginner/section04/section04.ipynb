{
 "cells": [
  {
   "cell_type": "markdown",
   "metadata": {},
   "source": [
    "# 第4回 | おすすめのDataFrame作成方法\n",
    "\n",
    "今回の講義では、Pandas.DataFrame作成でおすすめの方法を紹介していきます。\n",
    "\n",
    "<br>\n",
    "\n",
    "というのも、前回の講義でDataFrameの作成方法は3つあると解説しました。それが以下の3つです。\n",
    "\n",
    "- パターン① : 二次元リストから作成\n",
    "- パターン② : 辞書から作成\n",
    "- パターン③ : 辞書を格納したリストから作成\n",
    "\n",
    "このように作成方法はたくさんあるのですが、**本当に使っていくべきパターンは1つに限定できます。**\n",
    "\n",
    "もちろん自分の書きやすい方法を確立したり、会社のコードスタイルに合わせたりするのが第一優先です。\n",
    "\n",
    "<br>\n",
    "\n",
    "でも、これからPandasを勉強していくなら、学習教材側で決め打ちになっていた方が理解が進みやすくなります。\n",
    "\n",
    "3つの方法を一気に習得しようとするより、1つの方法だけを「着実に」身につけた方が良いってことですね。\n",
    "\n",
    "<br>\n",
    "\n",
    "なので、今回はおすすめのDataFrame作成方法と、その方法を選ぶ理由について紹介していきます。\n",
    "\n",
    "今回は「APIから取得したデータをDataFrameに変換する」という、実務に近い形式で学べるようになっています。\n",
    "\n",
    "データ分析職に就きたいと考えているなら、ぜひ学習を進めていきましょう。(もちろんそうでなくても...！)"
   ]
  },
  {
   "cell_type": "markdown",
   "metadata": {},
   "source": [
    "## ライブラリのインポート\n",
    "\n",
    "まずは、Pythonライブラリをインポートしていきましょう。\n",
    "\n",
    "前回使っていた`Pandas`と`Numpy`だけでなく、APIのアクセスで必要な`requests`ライブラリもインポートしていきます。\n",
    "\n",
    "<br>\n",
    "\n",
    "そのために、まずは`requests`ライブラリをインストールしていきましょう。\n",
    "\n",
    "そのためにはターミナルを開いて...、と言いたいところですが、実はJupyterのセルからでもライブラリのインストールが可能です。\n",
    "\n",
    "Jupyterのセルで`requests`ライブラリをインストールするには、以下のコマンドを実行してあげます。"
   ]
  },
  {
   "cell_type": "code",
   "execution_count": null,
   "metadata": {},
   "outputs": [],
   "source": [
    "# requestsライブラリをインストールする\n"
   ]
  },
  {
   "cell_type": "markdown",
   "metadata": {},
   "source": [
    "これで`requests`ライブラリのインストールが完了しました。\n",
    "\n",
    "それでは、このままライブラリをインポートしましょう！"
   ]
  },
  {
   "cell_type": "code",
   "execution_count": null,
   "metadata": {},
   "outputs": [],
   "source": [
    "# ライブラリのインポート\n"
   ]
  },
  {
   "cell_type": "markdown",
   "metadata": {},
   "source": [
    "これでライブラリのインポートは完了しました。\n",
    "\n",
    "それでは講義内容に入っていきます！"
   ]
  },
  {
   "cell_type": "markdown",
   "metadata": {},
   "source": [
    "# Pandas.DataFrame : おすすめの作成方法\n",
    "\n",
    "Pandas.DataFrameの作成方法は、以下の3つあります。\n",
    "\n",
    "- パターン① : 二次元リストから作成\n",
    "- パターン② : 辞書から作成\n",
    "- パターン③ : 辞書を格納したリストから作成\n",
    "\n",
    "このうち、おすすめのDataFrame作成方法は「**パターン③ : 辞書を格納したリストから作成**」です。\n",
    "\n",
    "その理由は、2つほどあります。\n",
    "\n",
    "- DataFrameの基になるリストを作成するとき、コードを見ただけでどのようなカラムが作成されるのか分かりやすい\n",
    "- APIで取得したデータをDataFrameに変換するとき、取得したデータをブチ込むだけでDataFrameを作成できる\n",
    "\n",
    "と理由を書いてみましたが、これだけだと何を言っているのか分かりません。それぞれを詳しく見ていきましょう！"
   ]
  },
  {
   "cell_type": "markdown",
   "metadata": {},
   "source": [
    "## アクセス先のAPIについて\n",
    "\n",
    "今回は技術情報がたくさん掲載されている[Qiita(キータ)](https://qiita.com/)のAPIで取得した記事情報を基に、DataFrameを作成してみたいと思います。\n",
    "\n",
    "»[参考記事 : Qiita API v2ドキュメント - Qiita:Developer](https://qiita.com/api/v2/docs)\n",
    "\n",
    "*※APIのアクセスは大事なスキルですが、Pandasと関係ないので理解できていなくても大丈夫です！*\n",
    "\n",
    "<br>\n",
    "\n",
    "Pythonを使ってAPIやWebサイトにアクセスするには、先ほどインポートしておいた`requests`ライブラリを使ってあげると簡単に実装できます。\n",
    "\n",
    "Qiitaの記事情報を取得するには、以下のURLにアクセスします。\n",
    "\n",
    "[https://qiita.com/api/v2/items](https://qiita.com/api/v2/items)\n",
    "\n",
    "<br>\n",
    "\n",
    "また、デフォルトではトップ20件の記事を取得するようになっています。\n",
    "\n",
    "今回はもう少しデータを取得したいので、20件ではなく100件にパラメータ設定して、APIにアクセスしたいと思います。\n",
    "\n",
    "コードに落とし込むなら、以下のようになります。"
   ]
  },
  {
   "cell_type": "code",
   "execution_count": null,
   "metadata": {},
   "outputs": [],
   "source": [
    "# 100件のデータを取得するようにパラメータ設定\n",
    "params = {\n",
    "    'per_page': 100\n",
    "}\n",
    "\n",
    "# APIにアクセスした結果を変数rに格納する\n",
    "r = requests.get('https://qiita.com/api/v2/items', params=params)"
   ]
  },
  {
   "cell_type": "markdown",
   "metadata": {},
   "source": [
    "これでQiita APIへのアクセスが完了しました。\n",
    "\n",
    "あとは取得したデータを基に、DataFrameを作成していきたいと思います。"
   ]
  },
  {
   "cell_type": "markdown",
   "metadata": {},
   "source": [
    "## おすすめポイント① : 分かりやすさ\n",
    "\n",
    "パターン③の方法をおすすめする1つ目の理由が「分かりやすさ」です。\n",
    "\n",
    "今回はQiita APIで取得した結果から、以下の項目でDataFrameを作成しましょう。\n",
    "\n",
    "- 記事タイトル\n",
    "- 記事URL\n",
    "- 記事の作成日\n",
    "- 記事に付いているタグ情報\n",
    "\n",
    "そのためのコードは、以下のようになります。"
   ]
  },
  {
   "cell_type": "code",
   "execution_count": null,
   "metadata": {},
   "outputs": [],
   "source": [
    "# DataFrameの基になるリストを作成する\n",
    "\n",
    "# DataFrameを作成して、変数dfに格納する\n"
   ]
  },
  {
   "cell_type": "markdown",
   "metadata": {},
   "source": [
    "これでDataFrameを作成できました。\n",
    "\n",
    "パターン③の方法だと、このようにリストを作成するコードを見るだけで、どのようなカラムを持ったDataFrameになるのか分かります。\n",
    "\n",
    "<br>\n",
    "\n",
    "念のため、いま作成したDataFrameの中身を確認してみましょう。"
   ]
  },
  {
   "cell_type": "code",
   "execution_count": null,
   "metadata": {},
   "outputs": [],
   "source": [
    "# DataFrameの中身を確認する\n"
   ]
  },
  {
   "cell_type": "markdown",
   "metadata": {},
   "source": [
    "上記の出力結果を確認してみると、リストを作成していたときに見ていたKeyが、DataFrameのカラム名になっていますね！"
   ]
  },
  {
   "cell_type": "markdown",
   "metadata": {},
   "source": [
    "## おすすめポイント② : APIの取得結果から簡単に作成できる\n",
    "\n",
    "また、特定の情報からDataFrameを作成するのではなく、取得結果全体を使う場合であれば、より簡潔なコードで済みます。\n",
    "\n",
    "具体的には、取得結果`r.json()`を`pd.Dataframe()`に突っ込むだけです。"
   ]
  },
  {
   "cell_type": "code",
   "execution_count": null,
   "metadata": {},
   "outputs": [],
   "source": [
    "# APIの取得結果を基にDataFrameを作成する\n"
   ]
  },
  {
   "cell_type": "markdown",
   "metadata": {},
   "source": [
    "このように、取得結果をそのままDataFrameにしたいと思ったとき、パターン③の方法であればたった1行のコードでDataFrameを作成できます。\n",
    "\n",
    "中身を確認してみると、しっかりDataFrameを作成できていることが分かりますね。"
   ]
  },
  {
   "cell_type": "code",
   "execution_count": null,
   "metadata": {},
   "outputs": [],
   "source": [
    "# DataFrameの中身を確認する\n"
   ]
  },
  {
   "cell_type": "markdown",
   "metadata": {},
   "source": [
    "以上2つの理由により、パターン③のDataFrame作成方法をおすすめしています。\n",
    "\n",
    "ただ分かりやすいだけでなく、データ取得の結果をそのままDataFrameに変換できるメリットもあるので、まずはこの方法をマスターしておけば問題ないと思います。\n",
    "\n",
    "<br>\n",
    "\n",
    "僕のYouTubeで紹介している[スクレイピング入門](https://www.youtube.com/playlist?list=PL4Y-mUWLK2t1LehwHVwAqxXTXw5xd-Yq8)でも、この方法でDataFrameを作成しています。\n",
    "\n",
    "<br>\n",
    "\n",
    "Pandasの扱いに慣れてきたら、他のDataFrame作成方法も習得して幅を広げていきましょう。"
   ]
  },
  {
   "cell_type": "markdown",
   "metadata": {},
   "source": [
    "# まとめ\n",
    "\n",
    "というわけで、今回はおすすめのDataFrame作成方法を紹介しました。\n",
    "\n",
    "ネット上の記事を見ていると「DataFrameの作成はあまり使われない」と書かれていますが、決してそんなことはありません。\n",
    "\n",
    "<br>\n",
    "\n",
    "例えば株/為替のデータ分析をするとき、APIを使って金融データを取得したら、まずは加工しやすいようにDataFrameに落とし込みます。\n",
    "\n",
    "今回のようにQiitaの記事情報を保存するにしても、DataFrameに落とし込んであげるのが吉です。\n",
    "\n",
    "このように、DataFrameの作成もちゃんと使っていく文法なので、しっかりおさえておきましょう！\n",
    "\n",
    "<br>\n",
    "\n",
    "ただし、企業でおこなうデータ分析などは、CSVやExcelファイルからデータを読み込んだり、データベース/DWHからデータを抽出したりすることが大半です。\n",
    "\n",
    "そのため、次回の講義ではCSVやExcelを読み込んで、DataFrameに落とし込む方法を紹介します。\n",
    "\n",
    "<br>\n",
    "\n",
    "文法としては難しいものではないので、この調子で頑張っていきましょう！\n",
    "\n",
    "\n",
    "<hr>\n",
    "\n",
    "また、講義の感想をメンションつけてツイートしていただけると嬉しいです！\n",
    "\n",
    "Twitter : はやたす([@hayatasuuu](https://twitter.com/hayatasuuu) )"
   ]
  }
 ],
 "metadata": {
  "kernelspec": {
   "display_name": "Python 3",
   "language": "python",
   "name": "python3"
  },
  "language_info": {
   "codemirror_mode": {
    "name": "ipython",
    "version": 3
   },
   "file_extension": ".py",
   "mimetype": "text/x-python",
   "name": "python",
   "nbconvert_exporter": "python",
   "pygments_lexer": "ipython3",
   "version": "3.8.8"
  },
  "toc": {
   "base_numbering": 1,
   "nav_menu": {},
   "number_sections": true,
   "sideBar": true,
   "skip_h1_title": false,
   "title_cell": "Table of Contents",
   "title_sidebar": "Contents",
   "toc_cell": false,
   "toc_position": {
    "height": "calc(100% - 180px)",
    "left": "10px",
    "top": "150px",
    "width": "287.797px"
   },
   "toc_section_display": true,
   "toc_window_display": true
  },
  "varInspector": {
   "cols": {
    "lenName": 16,
    "lenType": 16,
    "lenVar": 40
   },
   "kernels_config": {
    "python": {
     "delete_cmd_postfix": "",
     "delete_cmd_prefix": "del ",
     "library": "var_list.py",
     "varRefreshCmd": "print(var_dic_list())"
    },
    "r": {
     "delete_cmd_postfix": ") ",
     "delete_cmd_prefix": "rm(",
     "library": "var_list.r",
     "varRefreshCmd": "cat(var_dic_list()) "
    }
   },
   "types_to_exclude": [
    "module",
    "function",
    "builtin_function_or_method",
    "instance",
    "_Feature"
   ],
   "window_display": false
  }
 },
 "nbformat": 4,
 "nbformat_minor": 2
}
